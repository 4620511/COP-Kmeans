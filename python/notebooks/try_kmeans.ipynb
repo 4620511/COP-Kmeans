{
 "cells": [
  {
   "cell_type": "code",
   "execution_count": 1,
   "metadata": {
    "collapsed": false
   },
   "outputs": [],
   "source": [
    "import numpy as np\n",
    "\n",
    "from sklearn.cluster import KMeans\n",
    "from sklearn.datasets import load_digits\n",
    "from sklearn.preprocessing import scale\n",
    "\n",
    "np.random.seed(42)\n",
    "\n",
    "digits = load_digits()\n",
    "data = scale(digits.data)\n",
    "\n",
    "n_samples, n_features = data.shape\n",
    "n_digits = len(np.unique(digits.target))\n",
    "labels = digits.target\n",
    "\n",
    "kmeans = KMeans(init='random', n_clusters=n_digits, n_init=10)\n",
    "out = kmeans.fit_predict(data)\n",
    "sklearn_centers = kmeans.cluster_centers_"
   ]
  },
  {
   "cell_type": "code",
   "execution_count": 2,
   "metadata": {
    "collapsed": false
   },
   "outputs": [
    {
     "name": "stdout",
     "output_type": "stream",
     "text": [
      "[[1 3 2]\n",
      " [1 1 0]\n",
      " [3 2 4]]\n",
      "[[1 1 0]\n",
      " [1 2 2]\n",
      " [3 3 4]]\n"
     ]
    }
   ],
   "source": [
    "test = np.array([[1,3,2], [1,1,0], [3,2,4]])\n",
    "print(test)\n",
    "print(np.sort(test,0))"
   ]
  },
  {
   "cell_type": "code",
   "execution_count": 3,
   "metadata": {
    "collapsed": false
   },
   "outputs": [],
   "source": [
    "def distance(point1, point2):\n",
    "    return np.linalg.norm(point1-point2, 2)\n",
    "\n",
    "def find_closest(point , centers):\n",
    "    min_dist = distance(point, centers[0])\n",
    "    center = 0\n",
    "    for i in range(1,len(centers)):\n",
    "        dist = distance(point, centers[i])\n",
    "        if dist < min_dist:\n",
    "            min_dist = dist\n",
    "            center = i\n",
    "    return center\n",
    "\n",
    "def my_kmeans(data, n_clusters, init, tol=0.0001):\n",
    "    n_samples, n_features = np.shape(data)\n",
    "    # center_indices = np.random.choice(n_samples, n_clusters, replace=False)\n",
    "    # centers = data[center_indices]\n",
    "    cluster_indices = np.zeros(n_samples, dtype=np.int)\n",
    "    centers = init\n",
    "    old_centers = init-1\n",
    "    \n",
    "    while not np.all(np.abs(centers - old_centers) < tol):\n",
    "        old_centers = centers.copy()\n",
    "        # assign points\n",
    "        for i in range(n_samples):\n",
    "            cluster_indices[i] = find_closest(data[i], centers)\n",
    "        # update centers\n",
    "        centers = np.zeros((n_clusters, n_features))\n",
    "        cluster_counts = np.zeros(n_clusters, dtype=np.int)\n",
    "        for i in range(n_samples):\n",
    "            centers[cluster_indices[i]] += data[i]\n",
    "            cluster_counts[cluster_indices[i]] += 1\n",
    "        for i in range(n_clusters):\n",
    "            centers[i] /= cluster_counts[i]\n",
    "    return centers, cluster_indices"
   ]
  },
  {
   "cell_type": "code",
   "execution_count": 4,
   "metadata": {
    "collapsed": false
   },
   "outputs": [
    {
     "name": "stdout",
     "output_type": "stream",
     "text": [
      "sklearn finished computing the clusters.\n",
      "my implementation finished computing the clusters\n",
      "[2 2 1 1 0 0 1 2 2 2 2 1 0 1 1 1 1 0 0 1 1 2 1 2 2 1 1 1 0 0]\n",
      "[2 2 1 1 0 0 1 2 2 2 2 1 0 1 1 1 1 0 0 1 1 2 1 2 2 1 1 1 0 0]\n",
      "True\n"
     ]
    }
   ],
   "source": [
    "n_samples = 30\n",
    "n_clusters = 3\n",
    "n_features = 5\n",
    "dt = np.random.random_sample((n_samples,n_features))\n",
    "center_indices = np.random.choice(n_samples, n_clusters, replace=False)\n",
    "init = dt[center_indices].copy()\n",
    "\n",
    "from sklearn.cluster import KMeans\n",
    "kmeans = KMeans(init=init, n_clusters=n_clusters, n_init=1, tol=0.0001)\n",
    "sklearn_indices = kmeans.fit_predict(dt)\n",
    "print('sklearn finished computing the clusters.')\n",
    "\n",
    "centers, cluster_indices = my_kmeans(data=dt, n_clusters=n_clusters, init=init, tol=0.0001)\n",
    "print('my implementation finished computing the clusters')\n",
    "print(sklearn_indices)\n",
    "print(cluster_indices)\n",
    "print(np.all(sklearn_indices == cluster_indices))"
   ]
  }
 ],
 "metadata": {
  "kernelspec": {
   "display_name": "Python 3",
   "language": "python",
   "name": "python3"
  },
  "language_info": {
   "codemirror_mode": {
    "name": "ipython",
    "version": 3
   },
   "file_extension": ".py",
   "mimetype": "text/x-python",
   "name": "python",
   "nbconvert_exporter": "python",
   "pygments_lexer": "ipython3",
   "version": "3.4.3"
  }
 },
 "nbformat": 4,
 "nbformat_minor": 0
}
