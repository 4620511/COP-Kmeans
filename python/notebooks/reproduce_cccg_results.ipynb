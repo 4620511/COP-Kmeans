{
 "cells": [
  {
   "cell_type": "code",
   "execution_count": 1,
   "metadata": {
    "collapsed": true
   },
   "outputs": [],
   "source": [
    "import sys\n",
    "sys.path.append('..')"
   ]
  },
  {
   "cell_type": "code",
   "execution_count": 13,
   "metadata": {
    "collapsed": false
   },
   "outputs": [],
   "source": [
    "from cop_kmeans import cop_kmeans, euclidean_distance\n",
    "\n",
    "def read_data(datafile):\n",
    "    data = []\n",
    "    with open(datafile, 'r') as f:\n",
    "        for line in f:\n",
    "            line = line.strip()\n",
    "            if line != '':\n",
    "                d = [float(i) for i in line.split()]\n",
    "                data.append(d)\n",
    "    return data\n",
    "\n",
    "def read_constraints(consfile):\n",
    "    ml, cl = [], []\n",
    "    with open(consfile, 'r') as f:\n",
    "        for line in f:\n",
    "            line = line.strip()\n",
    "            if line != '':\n",
    "                line = line.split()\n",
    "                constraint = (int(line[0]), int(line[1]))\n",
    "                c = int(line[2])\n",
    "                if c == 1:\n",
    "                    ml.append(constraint)\n",
    "                if c == -1:\n",
    "                    cl.append(constraint)\n",
    "    return ml, cl\n",
    "\n",
    "def cluster_quality(cluster):\n",
    "    if len(cluster) == 0:\n",
    "        return 0.0\n",
    "       \n",
    "    quality = 0.0\n",
    "    for i in range(len(cluster)):\n",
    "        for j in range(i, len(cluster)):\n",
    "            quality += euclidean_distance(cluster[i], cluster[j])\n",
    "    return quality / len(cluster)\n",
    "    \n",
    "def compute_quality(data, cluster_indices):\n",
    "    clusters = dict()\n",
    "    for i, c in enumerate(cluster_indices):\n",
    "        if c in clusters:\n",
    "            clusters[c].append(data[i])\n",
    "        else:\n",
    "            clusters[c] = [data[i]]\n",
    "    return sum(cluster_quality(c) for c in clusters.values())\n",
    "    \n",
    "\n",
    "def run_iterate(datafile, consfile, k, n_runs=500):\n",
    "    data = read_data(datafile)\n",
    "    ml, cl = read_constraints(consfile)\n",
    "    \n",
    "    num_sat = 0\n",
    "    best_quality = None\n",
    "    for i in range(n_runs):\n",
    "        result = cop_kmeans(data, k, ml, cl)\n",
    "        if result != None:\n",
    "            num_sat += 1\n",
    "            clusters, centers = result\n",
    "            quality = compute_quality(data, clusters)\n",
    "            if not best_quality or quality < best_quality:\n",
    "                best_quality = quality\n",
    "    return (num_sat/n_runs*100), best_quality\n"
   ]
  },
  {
   "cell_type": "code",
   "execution_count": 24,
   "metadata": {
    "collapsed": false,
    "scrolled": true
   },
   "outputs": [],
   "source": [
    "cons_nums = [2, 60]\n",
    "results = []\n",
    "for c_num in cons_nums:\n",
    "    sat, qual = run_iterate('../../data/iris/iris.data', \n",
    "                            '../../data/iris/constraints/iris.%d.cons'%c_num, \n",
    "                            5, n_runs=10)\n",
    "    results.append({'c': c_num, 'sat': sat, 'quality': qual})"
   ]
  },
  {
   "cell_type": "code",
   "execution_count": 26,
   "metadata": {
    "collapsed": false
   },
   "outputs": [],
   "source": [
    "import csv\n",
    "with open('./iris.resluts', 'w') as f:\n",
    "    w = csv.DictWriter(f, results[0].keys())\n",
    "    w.writeheader()\n",
    "    w.writerows(results)"
   ]
  }
 ],
 "metadata": {
  "kernelspec": {
   "display_name": "Python 3",
   "language": "python",
   "name": "python3"
  },
  "language_info": {
   "codemirror_mode": {
    "name": "ipython",
    "version": 3
   },
   "file_extension": ".py",
   "mimetype": "text/x-python",
   "name": "python",
   "nbconvert_exporter": "python",
   "pygments_lexer": "ipython3",
   "version": "3.4.3"
  }
 },
 "nbformat": 4,
 "nbformat_minor": 0
}
