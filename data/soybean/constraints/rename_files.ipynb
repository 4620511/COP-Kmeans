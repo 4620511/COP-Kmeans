{
 "cells": [
  {
   "cell_type": "code",
   "execution_count": 1,
   "metadata": {
    "collapsed": true
   },
   "outputs": [],
   "source": [
    "import os, sys\n",
    "import re"
   ]
  },
  {
   "cell_type": "code",
   "execution_count": 4,
   "metadata": {
    "collapsed": false,
    "scrolled": true
   },
   "outputs": [
    {
     "name": "stdout",
     "output_type": "stream",
     "text": [
      "renamed soybean-small.cop.40.tcons2\n",
      "removed soybean-small.cop.220.tcons2\n",
      "removed soybean-small.cop.140.tcons2\n",
      "renamed soybean-small.cop.80.tcons2\n",
      "removed soybean-small.cop.5.tcons2\n",
      "removed soybean-small.cop.100.tcons2\n",
      "removed soybean-small.cop.180.tcons2\n",
      "removed soybean-small.cop.200.tcons2\n",
      "removed soybean-small.cop.500.tcons2\n",
      "renamed soybean-small.cop.60.tcons2\n",
      "renamed soybean-small.cop.10.tcons2\n",
      "removed soybean-small.cop.160.tcons2\n",
      "renamed soybean-small.cop.2.tcons2\n",
      "removed soybean-small.cop.380.tcons2\n",
      "removed soybean-small.cop.300.tcons2\n",
      "removed soybean-small.cop.420.tcons2\n",
      "renamed soybean-small.cop.20.tcons2\n",
      "removed soybean-small.cop.260.tcons2\n",
      "removed soybean-small.cop.340.tcons2\n",
      "removed soybean-small.cop.120.tcons2\n",
      "removed soybean-small.cop.460.tcons2\n"
     ]
    }
   ],
   "source": [
    "ncons_list = [2, 10, 20, 40, 60, 80]\n",
    "for fname in os.listdir('.'):\n",
    "    out = re.match(r'[\\w-]+\\.\\w+\\.(\\d+)\\.tcons2', fname)\n",
    "    if not out: continue\n",
    "    ncons = int(out.group(1))\n",
    "    if ncons in ncons_list:\n",
    "        os.rename(fname, 'soybean.%d.cons'%(ncons))\n",
    "        print('renamed %s'%fname)\n",
    "    else:\n",
    "        os.remove(fname)\n",
    "        print('removed %s'%fname)"
   ]
  }
 ],
 "metadata": {
  "kernelspec": {
   "display_name": "Python 3",
   "language": "python",
   "name": "python3"
  },
  "language_info": {
   "codemirror_mode": {
    "name": "ipython",
    "version": 3
   },
   "file_extension": ".py",
   "mimetype": "text/x-python",
   "name": "python",
   "nbconvert_exporter": "python",
   "pygments_lexer": "ipython3",
   "version": "3.4.3"
  }
 },
 "nbformat": 4,
 "nbformat_minor": 0
}
