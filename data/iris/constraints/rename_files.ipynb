{
 "cells": [
  {
   "cell_type": "code",
   "execution_count": 4,
   "metadata": {
    "collapsed": true
   },
   "outputs": [],
   "source": [
    "import os, sys\n",
    "import re"
   ]
  },
  {
   "cell_type": "code",
   "execution_count": 23,
   "metadata": {
    "collapsed": false,
    "scrolled": true
   },
   "outputs": [
    {
     "name": "stdout",
     "output_type": "stream",
     "text": [
      "renamed iris.cop.340.tcons2\n",
      "renamed iris.cop.60.tcons2\n",
      "removed iris.cop.180.tcons2\n",
      "removed iris.cop.350.tcons2\n",
      "removed iris.cop.320.tcons2\n",
      "renamed iris.cop.440.tcons2\n",
      "removed iris.cop.380.tcons2\n",
      "renamed iris.cop.300.tcons2\n",
      "renamed iris.cop.400.tcons2\n",
      "renamed iris.cop.500.tcons2\n",
      "removed iris.cop.20.tcons2\n",
      "renamed iris.cop.100.tcons2\n",
      "removed iris.cop.360.tcons2\n",
      "renamed iris.cop.2.tcons2\n",
      "removed iris.cop.220.tcons2\n",
      "removed iris.cop.250.tcons2\n",
      "removed iris.cop.460.tcons2\n",
      "removed iris.cop.260.tcons2\n",
      "removed iris.cop.480.tcons2\n",
      "renamed iris.cop.140.tcons2\n",
      "removed iris.cop.450.tcons2\n",
      "renamed iris.cop.200.tcons2\n",
      "renamed iris.cop.240.tcons2\n"
     ]
    }
   ],
   "source": [
    "ncons_list = [2, 60, 100, 140, 200, 240, 300, 340, 400, 440, 500]\n",
    "for fname in os.listdir('.'):\n",
    "    out = re.match(r'\\w+\\.\\w+\\.(\\d+)\\.tcons2', fname)\n",
    "    if not out: continue\n",
    "    ncons = int(out.group(1))\n",
    "    if ncons in ncons_list:\n",
    "        os.rename(fname, 'iris.%d.cons'%(ncons))\n",
    "        print('renamed %s'%fname)\n",
    "    else:\n",
    "        os.remove(fname)\n",
    "        print('removed %s'%fname)"
   ]
  }
 ],
 "metadata": {
  "kernelspec": {
   "display_name": "Python 3",
   "language": "python",
   "name": "python3"
  },
  "language_info": {
   "codemirror_mode": {
    "name": "ipython",
    "version": 3
   },
   "file_extension": ".py",
   "mimetype": "text/x-python",
   "name": "python",
   "nbconvert_exporter": "python",
   "pygments_lexer": "ipython3",
   "version": "3.4.3"
  }
 },
 "nbformat": 4,
 "nbformat_minor": 0
}
